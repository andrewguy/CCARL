{
 "cells": [
  {
   "cell_type": "code",
   "execution_count": 2,
   "metadata": {},
   "outputs": [],
   "source": [
    "import pandas as pd\n",
    "import glob\n",
    "from sklearn.metrics import f1_score, matthews_corrcoef"
   ]
  },
  {
   "cell_type": "code",
   "execution_count": 3,
   "metadata": {},
   "outputs": [],
   "source": [
    "files = glob.glob('./Data/MotifFinder_results/*')\n",
    "training_set = [x for x in files if 'training' in x]\n",
    "test_set = [x for x in files if 'test' in x]"
   ]
  },
  {
   "cell_type": "code",
   "execution_count": 4,
   "metadata": {},
   "outputs": [],
   "source": [
    "test_set = ['./Data/MotifFinder_results/GlycanPredictions_test_set_PHA-E.xlsx',\n",
    " './Data/MotifFinder_results/GlycanPredictions_test_set_SNA.xlsx',\n",
    " './Data/MotifFinder_results/GlycanPredictions_test_set_HA_PuertoRico_8.xlsx',\n",
    " './Data/MotifFinder_results/GlycanPredictions_test_set_ConA.xlsx',\n",
    " './Data/MotifFinder_results/GlycanPredictions_test_set_Human-DC-Sign-tetramer.xlsx',\n",
    " './Data/MotifFinder_results/GlycanPredictions_test_set_PNA.xlsx',\n",
    " './Data/MotifFinder_results/GlycanPredictions_test_set_PHA-L.xlsx',\n",
    " './Data/MotifFinder_results/GlycanPredictions_test_set_jacalin.xlsx',\n",
    " './Data/MotifFinder_results/GlycanPredictions_test_set_ABA.xlsx',\n",
    " './Data/MotifFinder_results/GlycanPredictions_test_set_MAL_I.xlsx',\n",
    " './Data/MotifFinder_results/GlycanPredictions_test_set_PSA.xlsx',\n",
    " './Data/MotifFinder_results/GlycanPredictions_test_set_SBA.xlsx',\n",
    " './Data/MotifFinder_results/GlycanPredictions_test_set_LCA.xlsx',\n",
    " './Data/MotifFinder_results/GlycanPredictions_test_set_RCAI.xlsx',\n",
    " './Data/MotifFinder_results/GlycanPredictions_test_set_WGA.xlsx',\n",
    " './Data/MotifFinder_results/GlycanPredictions_test_set_H3N8-HA.xlsx',\n",
    " './Data/MotifFinder_results/GlycanPredictions_test_set_MAL_II.xlsx',\n",
    " './Data/MotifFinder_results/GlycanPredictions_test_set_UEAI.xlsx',\n",
    " './Data/MotifFinder_results/GlycanPredictions_test_set_GSL_I_B4.xlsx',\n",
    " './Data/MotifFinder_results/GlycanPredictions_test_set_DBA.xlsx']\n",
    "\n",
    "test_set_true = ['./Data/test_set/test_set_PHA-E-10ug_13853_V5.0_DATA.csv',\n",
    " './Data/test_set/test_set_SNA_10ug_13631_v5.0_DATA.csv',\n",
    " './Data/test_set/test_set_HA_PuertoRico_8_34_13829_v5_DATA.csv',\n",
    " './Data/test_set/test_set_ConA_13799-10ug_V5.0_DATA.csv',\n",
    " './Data/test_set/test_set_Human-DC-Sign-tetramer_15320_v5.0_DATA.csv',\n",
    " './Data/test_set/test_set_PNA_14030_10ug_v5.0_DATA.csv',\n",
    " './Data/test_set/test_set_PHA-L-10ug_13856_V5.0_DATA.csv',\n",
    " './Data/test_set/test_set_jacalin-1ug_14301_v5.0_DATA.csv',\n",
    " './Data/test_set/test_set_ABA_14361_100ug_v5.0_DATA.csv',\n",
    " './Data/test_set/test_set_MAL-I_10ug_13883_v5.0_DATA.csv',\n",
    " './Data/test_set/test_set_PSA_14040_10ug_v5.0_DATA.csv',\n",
    " './Data/test_set/test_set_SBA_14042_10ug_v5.0_DATA.csv',\n",
    " './Data/test_set/test_set_LCA_10ug_13934_v5.0_DATA.csv',\n",
    " './Data/test_set/test_set_RCAI_10ug_14110_v5.0_DATA.csv',\n",
    " './Data/test_set/test_set_WGA_14057_1ug_v5.0_DATA.csv',\n",
    " './Data/test_set/test_set_H3N8-HA_16686_v5.1_DATA.csv',\n",
    " './Data/test_set/test_set_MAL_II_10ug_13886_v5.0_DATA.csv',\n",
    " './Data/test_set/test_set_UEAI_100ug_13806_v5.0_DATA.csv',\n",
    " './Data/test_set/test_set_GSL-I-B4_10ug_13920_v5.0_DATA.csv',\n",
    " './Data/test_set/test_set_DBA_100ug_13897_v5.0_DATA.csv']"
   ]
  },
  {
   "cell_type": "code",
   "execution_count": 8,
   "metadata": {},
   "outputs": [
    {
     "name": "stderr",
     "output_type": "stream",
     "text": [
      "/home/andrew/anaconda3/lib/python3.7/site-packages/sklearn/metrics/classification.py:538: RuntimeWarning: invalid value encountered in double_scalars\n",
      "  mcc = cov_ytyp / np.sqrt(cov_ytyt * cov_ypyp)\n"
     ]
    }
   ],
   "source": [
    "with open('motiffinder_benchmarks.csv', 'w') as out_file:\n",
    "    out_file.write(','.join([\"sample\", \"F1\", \"MCC\"]) + '\\n')\n",
    "    for f, f_ref in zip(test_set, test_set_true):\n",
    "        mf_results = pd.read_excel(f, skiprows=[0,1], names=[\"id\", \"glycan\", \"rfu\", 'rmse', 'null_model', 'pred'])\n",
    "        true_results = pd.read_csv(f_ref)\n",
    "        true_binding_ordered = [true_results.iloc[i - 1].binding for i in mf_results.id]\n",
    "        f1 = f1_score(true_binding_ordered, mf_results.pred > 0)\n",
    "        mcc = matthews_corrcoef(true_binding_ordered, mf_results.pred > 0)\n",
    "        out_file.write(f\"{f.split('_set_')[-1][0:-5]},{f1:0.3f},{mcc:0.3f}\\n\")\n"
   ]
  },
  {
   "cell_type": "code",
   "execution_count": null,
   "metadata": {},
   "outputs": [],
   "source": []
  }
 ],
 "metadata": {
  "kernelspec": {
   "display_name": "Python 3",
   "language": "python",
   "name": "python3"
  },
  "language_info": {
   "codemirror_mode": {
    "name": "ipython",
    "version": 3
   },
   "file_extension": ".py",
   "mimetype": "text/x-python",
   "name": "python",
   "nbconvert_exporter": "python",
   "pygments_lexer": "ipython3",
   "version": "3.7.2"
  }
 },
 "nbformat": 4,
 "nbformat_minor": 2
}
