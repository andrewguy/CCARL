{
 "cells": [
  {
   "cell_type": "code",
   "execution_count": 1,
   "metadata": {},
   "outputs": [],
   "source": [
    "from sklearn.model_selection import StratifiedKFold, train_test_split\n",
    "import pandas as pd\n",
    "import os\n",
    "import numpy as np\n",
    "\n",
    "from ccarl.ccarl import CCARLClassifier, _calculate_binders, _log_rfu_values\n",
    "from ccarl.glycan_parsers.cfg_array_versions import get_likely_cfg_array_version\n",
    "import ccarl"
   ]
  },
  {
   "cell_type": "code",
   "execution_count": 2,
   "metadata": {},
   "outputs": [],
   "source": [
    "DATA_DIR = '../Data/CFG_Data_Files/CFG_CSV_Data_Files/'\n",
    "\n",
    "\n",
    "csv_files = [\"ABA_14361_100ug_v5.0_DATA.csv\",\n",
    "             \"ConA_13799-10ug_V5.0_DATA.csv\",\n",
    "             'PNA_14030_10ug_v5.0_DATA.csv',\n",
    "             \"RCAI_10ug_14110_v5.0_DATA.csv\",\n",
    "             \"PHA-E-10ug_13853_V5.0_DATA.csv\",\n",
    "             \"PHA-L-10ug_13856_V5.0_DATA.csv\",\n",
    "             \"LCA_10ug_13934_v5.0_DATA.csv\",\n",
    "             \"SNA_10ug_13631_v5.0_DATA.csv\",\n",
    "             \"MAL-I_10ug_13883_v5.0_DATA.csv\",\n",
    "             \"MAL_II_10ug_13886_v5.0_DATA.csv\",\n",
    "             \"GSL-I-B4_10ug_13920_v5.0_DATA.csv\",\n",
    "             \"jacalin-1ug_14301_v5.0_DATA.csv\", # Not a vector labs, but can't find one in the data. Only EY.\n",
    "             'WGA_14057_1ug_v5.0_DATA.csv',\n",
    "             \"UEAI_100ug_13806_v5.0_DATA.csv\",\n",
    "             \"SBA_14042_10ug_v5.0_DATA.csv\",\n",
    "             \"DBA_100ug_13897_v5.0_DATA.csv\",\n",
    "             \"PSA_14040_10ug_v5.0_DATA.csv\",\n",
    "             \"HA_PuertoRico_8_34_13829_v5_DATA.csv\",\n",
    "             'H3N8-HA_16686_v5.1_DATA.csv',\n",
    "             \"Human-DC-Sign-tetramer_15320_v5.0_DATA.csv\"]"
   ]
  },
  {
   "cell_type": "code",
   "execution_count": 3,
   "metadata": {},
   "outputs": [],
   "source": [
    "# TODO Need to run frequent subtree mining on full list of glycans.\n",
    "\n",
    "def generate_test_training_splits(csv_file, random_seed=None):\n",
    "    if random_seed:\n",
    "        np.random.seed(random_seed)\n",
    "    CV_DATA_DIR = './Data/CV_Folds/'\n",
    "    thresholds=(1.5, 3.5)\n",
    "    csv_data = pd.read_csv(os.path.join('./Data/CFG_Data_Files/CFG_CSV_Data_Files/', csv_file))\n",
    "    rfu_data = csv_data.RFU\n",
    "    structures = list(csv_data.Structure)\n",
    "    log_rfu = _log_rfu_values(rfu_data)\n",
    "    binders = _calculate_binders(log_rfu, thresholds=thresholds)\n",
    "    \n",
    "    if random_seed:\n",
    "        np.random.seed(random_seed)\n",
    "    \n",
    "    # Read in all glycan structures from csv. Match to closest CFG array version.\n",
    "    # Reads in glycan structures from respective array version.\n",
    "    glycan_list, array_version, mismatches, sum_lev = get_likely_cfg_array_version(structures, distance_threshold=2)\n",
    "    \n",
    "    rfu_dict = {key: value for key, value in zip(glycan_list, list(rfu_data))}\n",
    "\n",
    "    filtered_glycan_list = [x for x, binding in zip(glycan_list, binders) if binding != 1]\n",
    "    binding_class = binders[binders != 1]\n",
    "    binding_class[binding_class == 2] = 1\n",
    "    \n",
    "    # Generate test and training datasets.\n",
    "    skf = StratifiedKFold(n_splits=5, shuffle=True)\n",
    "    fold = 0\n",
    "    for train, test in skf.split(filtered_glycan_list, binding_class):\n",
    "        fold += 1\n",
    "        glycan_list_train = [filtered_glycan_list[x] for x in train]\n",
    "        glycan_list_test = [filtered_glycan_list[x] for x in test]\n",
    "        df_train = pd.DataFrame({'glycan': glycan_list_train, 'binding': binding_class[train], 'rfu': [rfu_dict[x] for x in glycan_list_train]})\n",
    "        df_test = pd.DataFrame({'glycan': glycan_list_test, 'binding': binding_class[test], 'rfu': [rfu_dict[x] for x in glycan_list_test]})\n",
    "        df_train.to_csv(os.path.join(CV_DATA_DIR, f\"fold_{fold}\", f\"training_set_{csv_file}\") , sep=',', index=False)\n",
    "        df_test.to_csv(os.path.join(CV_DATA_DIR, f\"fold_{fold}\", f\"test_set_{csv_file}\") , sep=',', index=False)    \n",
    "    return"
   ]
  },
  {
   "cell_type": "code",
   "execution_count": 4,
   "metadata": {},
   "outputs": [],
   "source": [
    "for csv_file in csv_files:\n",
    "    generate_test_training_splits(csv_file, random_seed=42)"
   ]
  }
 ],
 "metadata": {
  "kernelspec": {
   "display_name": "Python 3",
   "language": "python",
   "name": "python3"
  },
  "language_info": {
   "codemirror_mode": {
    "name": "ipython",
    "version": 3
   },
   "file_extension": ".py",
   "mimetype": "text/x-python",
   "name": "python",
   "nbconvert_exporter": "python",
   "pygments_lexer": "ipython3",
   "version": "3.7.3"
  }
 },
 "nbformat": 4,
 "nbformat_minor": 4
}
