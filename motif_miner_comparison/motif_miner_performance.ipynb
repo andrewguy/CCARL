{
 "cells": [
  {
   "cell_type": "markdown",
   "metadata": {},
   "source": [
    "### Analysis of motifs using Motif Miner (RINGS tool that employs alpha frequent subtree mining)"
   ]
  },
  {
   "cell_type": "code",
   "execution_count": 194,
   "metadata": {},
   "outputs": [],
   "source": [
    "csv_files = [\"ABA_14361_100ug_v5.0_DATA.csv\",\n",
    "             \"ConA_13799-10ug_V5.0_DATA.csv\",\n",
    "             'PNA_14030_10ug_v5.0_DATA.csv',\n",
    "             \"RCAI_10ug_14110_v5.0_DATA.csv\",\n",
    "             \"PHA-E-10ug_13853_V5.0_DATA.csv\",\n",
    "             \"PHA-L-10ug_13856_V5.0_DATA.csv\",\n",
    "             \"LCA_10ug_13934_v5.0_DATA.csv\",\n",
    "             \"SNA_10ug_13631_v5.0_DATA.csv\",\n",
    "             \"MAL-I_10ug_13883_v5.0_DATA.csv\",\n",
    "             \"MAL_II_10ug_13886_v5.0_DATA.csv\",\n",
    "             \"GSL-I-B4_10ug_13920_v5.0_DATA.csv\",\n",
    "             \"jacalin-1ug_14301_v5.0_DATA.csv\",\n",
    "             'WGA_14057_1ug_v5.0_DATA.csv',\n",
    "             \"UEAI_100ug_13806_v5.0_DATA.csv\",\n",
    "             \"SBA_14042_10ug_v5.0_DATA.csv\",\n",
    "             \"DBA_100ug_13897_v5.0_DATA.csv\",\n",
    "             \"PSA_14040_10ug_v5.0_DATA.csv\",\n",
    "             \"HA_PuertoRico_8_34_13829_v5_DATA.csv\",\n",
    "             'H3N8-HA_16686_v5.1_DATA.csv',\n",
    "             \"Human-DC-Sign-tetramer_15320_v5.0_DATA.csv\"]\n",
    "\n",
    "csv_file_normal_names = [\n",
    "     r\"\\textit{Agaricus bisporus} agglutinin (ABA)\",\n",
    "     r\"Concanavalin A (Con A)\",\n",
    "     r'Peanut agglutinin (PNA)',\n",
    "     r\"\\textit{Ricinus communis} agglutinin I (RCA I/RCA\\textsubscript{120})\",\n",
    "     r\"\\textit{Phaseolus vulgaris} erythroagglutinin (PHA-E)\",\n",
    "     r\"\\textit{Phaseolus vulgaris} leucoagglutinin (PHA-L)\",\n",
    "     r\"\\textit{Lens culinaris} agglutinin (LCA)\",\n",
    "     r\"\\textit{Sambucus nigra} agglutinin (SNA)\",\n",
    "     r\"\\textit{Maackia amurensis} lectin I (MAL-I)\",\n",
    "     r\"\\textit{Maackia amurensis} lectin II (MAL-II)\",\n",
    "     r\"\\textit{Griffonia simplicifolia} Lectin I isolectin B\\textsubscript{4} (GSL I-B\\textsubscript{4})\",\n",
    "     r\"Jacalin\",\n",
    "     r'Wheat germ agglutinin (WGA)',\n",
    "     r\"\\textit{Ulex europaeus} agglutinin I (UEA I)\",\n",
    "     r\"Soybean agglutinin (SBA)\",\n",
    "     r\"\\textit{Dolichos biflorus} agglutinin (DBA)\",\n",
    "     r\"\\textit{Pisum sativum} agglutinin (PSA)\",\n",
    "     r\"Influenza hemagglutinin (HA) (A/Puerto Rico/8/34) (H1N1)\",\n",
    "     r'Influenza HA (A/harbor seal/Massachusetts/1/2011) (H3N8)',\n",
    "     r\"Human DC-SIGN tetramer\"]"
   ]
  },
  {
   "cell_type": "code",
   "execution_count": 36,
   "metadata": {},
   "outputs": [],
   "source": [
    "import sys\n",
    "import os\n",
    "import pandas as pd\n",
    "import numpy as np\n",
    "from scipy import interp\n",
    "\n",
    "sys.path.append('..')\n",
    "\n",
    "from ccarl.glycan_parsers.conversions import kcf_to_digraph, cfg_to_kcf\n",
    "from ccarl.glycan_plotting import draw_glycan_diagram\n",
    "from ccarl.glycan_graph_methods import generate_digraph_from_glycan_string\n",
    "from ccarl.glycan_features import generate_features_from_subtrees\n",
    "import ccarl.glycan_plotting\n",
    "\n",
    "from sklearn.linear_model import LogisticRegressionCV, LogisticRegression\n",
    "from sklearn.metrics import matthews_corrcoef, make_scorer, roc_curve, auc\n",
    "\n",
    "import matplotlib.pyplot as plt"
   ]
  },
  {
   "cell_type": "code",
   "execution_count": 138,
   "metadata": {},
   "outputs": [
    {
     "name": "stdout",
     "output_type": "stream",
     "text": [
      "Running fold 1...\n",
      "Running fold 2...\n",
      "Running fold 3...\n",
      "Running fold 4...\n",
      "Running fold 5...\n"
     ]
    }
   ],
   "source": [
    "from collections import defaultdict\n",
    "\n",
    "aucs = defaultdict(list)\n",
    "ys = defaultdict(list)\n",
    "probs = defaultdict(list)\n",
    "motifs = defaultdict(list)\n",
    "\n",
    "\n",
    "for fold in [1,2,3,4,5]:\n",
    "    print(f\"Running fold {fold}...\")\n",
    "    for csv_file in csv_files:\n",
    "        alpha = 0.8\n",
    "        minsup = 0.2\n",
    "        input_file = f'./temp_{csv_file}'\n",
    "        training_data = pd.read_csv(f\"../Data/CV_Folds/fold_{fold}/training_set_{csv_file}\")\n",
    "        test_data = pd.read_csv(f\"../Data/CV_Folds/fold_{fold}/test_set_{csv_file}\")\n",
    "        pos_glycan_set = training_data['glycan'][training_data.binding == 1].values\n",
    "        kcf_string = '\\n'.join([cfg_to_kcf(x) for x in pos_glycan_set])\n",
    "        with open(input_file, 'w') as f:\n",
    "            f.write(kcf_string)\n",
    "        min_sup = int(len(pos_glycan_set) * minsup)\n",
    "        subtrees = os.popen(f\"ruby Miner_cmd.rb {min_sup} {alpha} {input_file}\").read()\n",
    "        subtree_graphs = [kcf_to_digraph(x) for x in subtrees.split(\"///\")[0:-1]]\n",
    "        motifs[csv_file].append(subtree_graphs)\n",
    "\n",
    "        os.remove(input_file)\n",
    "\n",
    "        binding_class = training_data.binding.values\n",
    "        glycan_graphs = [generate_digraph_from_glycan_string(x, parse_linker=True,\n",
    "                                                             format='CFG')\n",
    "                              for x in training_data.glycan]\n",
    "\n",
    "        glycan_graphs_test = [generate_digraph_from_glycan_string(x, parse_linker=True,\n",
    "                                                                 format='CFG')\n",
    "                              for x in test_data.glycan]\n",
    "\n",
    "        features = [generate_features_from_subtrees(subtree_graphs, glycan) for \n",
    "                    glycan in glycan_graphs]\n",
    "\n",
    "        features_test = [generate_features_from_subtrees(subtree_graphs, glycan) for \n",
    "                         glycan in glycan_graphs_test]\n",
    "\n",
    "        logistic_clf = LogisticRegression(penalty='l2', C=100, solver='lbfgs',\n",
    "                                                  class_weight='balanced', max_iter=1000)\n",
    "\n",
    "        X = features\n",
    "        y = binding_class\n",
    "        logistic_clf.fit(X, y)\n",
    "\n",
    "        y_test = test_data.binding.values\n",
    "        X_test = features_test\n",
    "        fpr, tpr, _ = roc_curve(y_test, logistic_clf.predict_proba(X_test)[:,1], drop_intermediate=False)\n",
    "        aucs[csv_file].append(auc(fpr, tpr))\n",
    "        ys[csv_file].append(y_test)\n",
    "        probs[csv_file].append(logistic_clf.predict_proba(X_test)[:,1])"
   ]
  },
  {
   "cell_type": "code",
   "execution_count": 19,
   "metadata": {},
   "outputs": [
    {
     "name": "stdout",
     "output_type": "stream",
     "text": [
      "Running fold 1...\n",
      "Running fold 2...\n",
      "Running fold 3...\n",
      "Running fold 4...\n",
      "Running fold 5...\n"
     ]
    }
   ],
   "source": [
    "# Assess the number of subtrees generated for each CV round.\n",
    "\n",
    "subtree_lengths = defaultdict(list)\n",
    "\n",
    "for fold in [1,2,3,4,5]:\n",
    "    print(f\"Running fold {fold}...\")\n",
    "    for csv_file in csv_files:\n",
    "        alpha = 0.8\n",
    "        minsup = 0.2\n",
    "        input_file = f'./temp_{csv_file}'\n",
    "        training_data = pd.read_csv(f\"../Data/CV_Folds/fold_{fold}/training_set_{csv_file}\")\n",
    "        test_data = pd.read_csv(f\"../Data/CV_Folds/fold_{fold}/test_set_{csv_file}\")\n",
    "        pos_glycan_set = training_data['glycan'][training_data.binding == 1].values\n",
    "        kcf_string = '\\n'.join([cfg_to_kcf(x) for x in pos_glycan_set])\n",
    "        with open(input_file, 'w') as f:\n",
    "            f.write(kcf_string)\n",
    "        min_sup = int(len(pos_glycan_set) * minsup)\n",
    "        subtrees = os.popen(f\"ruby Miner_cmd.rb {min_sup} {alpha} {input_file}\").read()\n",
    "        subtree_graphs = [kcf_to_digraph(x) for x in subtrees.split(\"///\")[0:-1]]\n",
    "        subtree_lengths[csv_file].append(len(subtree_graphs))\n",
    "        os.remove(input_file)"
   ]
  },
  {
   "cell_type": "code",
   "execution_count": 20,
   "metadata": {},
   "outputs": [
    {
     "name": "stdout",
     "output_type": "stream",
     "text": [
      "12.59\n",
      "24\n",
      "7\n"
     ]
    }
   ],
   "source": [
    "subtree_lengths = [y for x in subtree_lengths.values() for y in x]\n",
    "print(np.mean(subtree_lengths))\n",
    "print(np.max(subtree_lengths))\n",
    "print(np.min(subtree_lengths))"
   ]
  },
  {
   "cell_type": "code",
   "execution_count": 39,
   "metadata": {},
   "outputs": [],
   "source": [
    "def plot_multiple_roc(data):\n",
    "    '''Plot multiple ROC curves.\n",
    "    \n",
    "    Prints out key AUC values (mean, median etc).\n",
    "    \n",
    "    Args:\n",
    "        data (list): A list containing [y, probs] for each model, where:\n",
    "            y: True class labels\n",
    "            probs: Predicted probabilities\n",
    "    Returns:\n",
    "        Figure, Axes, Figure, Axes\n",
    "    '''\n",
    "    mean_fpr = np.linspace(0, 1, 100)\n",
    "\n",
    "    fig, axes = plt.subplots(figsize=(4, 4))\n",
    "\n",
    "    ax = axes\n",
    "    ax.set_title('')\n",
    "    #ax.legend(loc=\"lower right\")\n",
    "    ax.set_xlabel('False Positive Rate')\n",
    "    ax.set_ylabel('True Positive Rate')\n",
    "    ax.set_aspect('equal', adjustable='box')\n",
    "    auc_values = []\n",
    "    tpr_list = []\n",
    "\n",
    "    for y, probs in data:\n",
    "        #data_point = data[csv_file]\n",
    "        #y = data_point[7] # test binding\n",
    "        #X = data_point[8] # test features\n",
    "        #logistic_clf = data_point[0] # model\n",
    "        fpr, tpr, _ = roc_curve(y, probs, drop_intermediate=False)\n",
    "        tpr_list.append(interp(mean_fpr, fpr, tpr))\n",
    "        auc_values.append(auc(fpr, tpr))\n",
    "        ax.plot(fpr, tpr, color='blue', alpha=0.1, label=f'ROC curve (area = {auc(fpr, tpr): 2.3f})')\n",
    "        ax.plot([0,1], [0,1], linestyle='--', color='grey', linewidth=0.8, dashes=(5, 10))\n",
    "\n",
    "    mean_tpr = np.mean(tpr_list, axis=0)\n",
    "    median_tpr = np.median(tpr_list, axis=0)\n",
    "    upper_tpr = np.percentile(tpr_list, 75, axis=0)\n",
    "    lower_tpr = np.percentile(tpr_list, 25, axis=0)\n",
    "    ax.plot(mean_fpr, median_tpr, color='black')\n",
    "\n",
    "    ax.fill_between(mean_fpr, lower_tpr, upper_tpr, color='grey', alpha=.5,\n",
    "                     label=r'$\\pm$ 1 std. dev.')\n",
    "    fig.savefig(\"Motif_Miner_CV_ROC_plot_all_curves.svg\")\n",
    "\n",
    "    fig2, ax2 = plt.subplots(figsize=(4, 4))\n",
    "    ax2.hist(auc_values, range=[0.5,1], bins=10, rwidth=0.9, color=(0, 114/255, 178/255))\n",
    "    ax2.set_xlabel(\"AUC value\")\n",
    "    ax2.set_ylabel(\"Counts\")\n",
    "    fig2.savefig(\"Motif_Miner_CV_AUC_histogram.svg\")\n",
    "\n",
    "    print(f\"Mean AUC value: {np.mean(auc_values): 1.3f}\")\n",
    "\n",
    "    print(f\"Median AUC value: {np.median(auc_values): 1.3f}\")\n",
    "    print(f\"IQR of AUC values: {np.percentile(auc_values, 25): 1.3f} - {np.percentile(auc_values, 75): 1.3f}\")\n",
    "    return fig, axes, fig2, ax2, auc_values\n"
   ]
  },
  {
   "cell_type": "code",
   "execution_count": 40,
   "metadata": {},
   "outputs": [
    {
     "name": "stdout",
     "output_type": "stream",
     "text": [
      "Mean AUC value:  0.866\n",
      "Median AUC value:  0.874\n",
      "IQR of AUC values:  0.825 -  0.940\n"
     ]
    },
    {
     "data": {
      "image/png": "[encoded data removed]",
      "text/plain": [
       "<Figure size 288x288 with 1 Axes>"
      ]
     },
     "metadata": {
      "needs_background": "light"
     },
     "output_type": "display_data"
    },
    {
     "data": {
      "image/png": "[encoded data removed]",
      "text/plain": [
       "<Figure size 288x288 with 1 Axes>"
      ]
     },
     "metadata": {
      "needs_background": "light"
     },
     "output_type": "display_data"
    }
   ],
   "source": [
    "# Plot ROC curves for all test sets\n",
    "roc_data = [[y, prob] for y_fold, prob_fold in zip(ys.values(), probs.values()) for y, prob in zip(y_fold, prob_fold)]\n",
    "_, _, _, _, auc_values = plot_multiple_roc(roc_data)"
   ]
  },
  {
   "cell_type": "code",
   "execution_count": 45,
   "metadata": {},
   "outputs": [],
   "source": [
    "auc_values_ccarl = [0.950268817204301,\n",
    " 0.9586693548387097,\n",
    " 0.9559811827956988,\n",
    " 0.8686155913978494,\n",
    " 0.9351222826086956,\n",
    " 0.989010989010989,\n",
    " 0.9912587412587414,\n",
    " 0.9090909090909092,\n",
    " 0.9762626262626264,\n",
    " 0.9883597883597884,\n",
    " 0.9065533980582524,\n",
    " 0.9417475728155339,\n",
    " 0.8268608414239482,\n",
    " 0.964349376114082,\n",
    " 0.9322638146167558,\n",
    " 0.9178037686809616,\n",
    " 0.96361273554256,\n",
    " 0.9362139917695472,\n",
    " 0.9958847736625515,\n",
    " 0.9526748971193415,\n",
    " 0.952300785634119,\n",
    " 0.9315375982042648,\n",
    " 0.9705387205387206,\n",
    " 0.9865319865319865,\n",
    " 0.9849773242630385,\n",
    " 0.9862385321100917,\n",
    " 0.9862385321100918,\n",
    " 0.9606481481481481,\n",
    " 0.662037037037037,\n",
    " 0.7796296296296297,\n",
    " 0.9068627450980392,\n",
    " 0.915032679738562,\n",
    " 0.9820261437908496,\n",
    " 0.9893790849673203,\n",
    " 0.9882988298829882,\n",
    " 0.9814814814814815,\n",
    " 1.0,\n",
    " 0.8439153439153441,\n",
    " 0.9859813084112149,\n",
    " 0.9953271028037383,\n",
    " 0.8393308080808081,\n",
    " 0.8273358585858586,\n",
    " 0.7954545454545453,\n",
    " 0.807070707070707,\n",
    " 0.8966329966329966,\n",
    " 0.8380952380952381,\n",
    " 0.6201058201058202,\n",
    " 0.7179894179894181,\n",
    " 0.6778846153846154,\n",
    " 0.75,\n",
    " 0.9356060606060607,\n",
    " 0.8619528619528619,\n",
    " 0.8787878787878789,\n",
    " 0.9040816326530613,\n",
    " 0.7551020408163266,\n",
    " 0.9428694158075602,\n",
    " 0.9226804123711341,\n",
    " 0.8711340206185567,\n",
    " 0.7840909090909091,\n",
    " 0.8877840909090909,\n",
    " 0.903225806451613,\n",
    " 0.8705594120049,\n",
    " 0.9091465904450796,\n",
    " 0.8816455696202531,\n",
    " 0.8521097046413502,\n",
    " 0.8964521452145213,\n",
    " 0.9294554455445544,\n",
    " 0.8271452145214522,\n",
    " 0.8027272727272727,\n",
    " 0.8395454545454546,\n",
    " 0.8729967948717949,\n",
    " 0.9306891025641025,\n",
    " 0.9550970873786407,\n",
    " 0.7934686672550749,\n",
    " 0.8243601059135041,\n",
    " 0.8142100617828772,\n",
    " 0.9179611650485436,\n",
    " 0.8315533980582525,\n",
    " 0.7266990291262136,\n",
    " 0.9038834951456312,\n",
    " 0.9208916083916084,\n",
    " 0.7875,\n",
    " 0.9341346153846154,\n",
    " 0.9019230769230768,\n",
    " 0.9086538461538461,\n",
    " 0.9929245283018868,\n",
    " 0.9115566037735848,\n",
    " 0.9952830188679246,\n",
    " 0.9658018867924528,\n",
    " 0.7169811320754716,\n",
    " 0.935981308411215,\n",
    " 0.9405660377358491,\n",
    " 0.9905660377358491,\n",
    " 0.9937106918238994,\n",
    " 0.9302935010482181,\n",
    " 0.7564814814814815,\n",
    " 0.9375,\n",
    " 0.8449074074074074,\n",
    " 0.8668981481481483,\n",
    " 0.7978971962616823]"
   ]
  },
  {
   "cell_type": "code",
   "execution_count": null,
   "metadata": {},
   "outputs": [],
   "source": []
  },
  {
   "cell_type": "code",
   "execution_count": 54,
   "metadata": {},
   "outputs": [],
   "source": [
    "auc_value_means = [np.mean(auc_values[x*5:x*5+5]) for x in range(int(len(auc_values) / 5))]\n",
    "auc_value_means_ccarl = [np.mean(auc_values_ccarl[x*5:x*5+5]) for x in range(int(len(auc_values_ccarl) / 5))]"
   ]
  },
  {
   "cell_type": "code",
   "execution_count": null,
   "metadata": {},
   "outputs": [],
   "source": []
  },
  {
   "cell_type": "code",
   "execution_count": 130,
   "metadata": {},
   "outputs": [],
   "source": [
    "auc_value_mean_glymmr = np.array([0.6067939 , 0.76044574, 0.66786624, 0.69578298, 0.81659623,\n",
    "       0.80536403, 0.77231548, 0.96195032, 0.70013384, 0.60017685,\n",
    "       0.77336818, 0.78193305, 0.66269668, 0.70333122, 0.54247748,\n",
    "       0.63003707, 0.79619231, 0.85141509, 0.9245296 , 0.63366329])\n",
    "\n",
    "auc_value_mean_glymmr_best = np.array([0.77559242, 0.87452658, 0.75091636, 0.7511371 , 0.87450697,\n",
    "       0.82895628, 0.81083123, 0.96317065, 0.75810185, 0.82680149,\n",
    "       0.84747054, 0.8039597 , 0.69651882, 0.73431593, 0.582194  ,\n",
    "       0.67407767, 0.83049825, 0.88891509, 0.9345188 , 0.72702016])\n",
    "\n",
    "auc_value_motiffinder = [0.9047619047619048, 0.9365601503759399, 0.6165413533834586, 0.9089068825910931,\n",
    "      0.4962962962962963, 0.6358816964285713, 0.8321078431372548, 0.8196576151121606, 0.8725400457665904,\n",
    "      0.830220713073005, 0.875, 0.7256367663344407, 0.8169291338582677, 0.9506818181818182, 0.7751351351351351,\n",
    "      0.9362947658402204, 0.6938461538461539, 0.6428571428571428, 0.7168021680216802, 0.5381136950904392] #Note, only from a single test-train split."
   ]
  },
  {
   "cell_type": "code",
   "execution_count": 137,
   "metadata": {},
   "outputs": [
    {
     "data": {
      "image/png": "[encoded data removed]",
      "text/plain": [
       "<Figure size 432x288 with 1 Axes>"
      ]
     },
     "metadata": {},
     "output_type": "display_data"
    }
   ],
   "source": [
    "import seaborn as sns\n",
    "sns.set(style=\"ticks\")\n",
    "plot_data = np.array([auc_value_mean_glymmr, auc_value_mean_glymmr_best, auc_value_motiffinder, auc_value_means, auc_value_means_ccarl]).T\n",
    "ax = sns.violinplot(data=plot_data, cut=2, inner='quartile')\n",
    "sns.swarmplot(data=plot_data, color='black')\n",
    "ax.set_ylim([0.5, 1.05])\n",
    "ax.set_xticklabels([\"GLYMMR\\n(mean)\", \"GLYMMR\\n(best)\", \"MotifFinder\", \"Glycan\\nMiner Tool\", \"CCARL\"])\n",
    "#ax.grid('off')\n",
    "ax.set_ylabel(\"AUC\")\n",
    "ax.figure.savefig('method_comparison_violin_plot.svg')"
   ]
  },
  {
   "cell_type": "code",
   "execution_count": null,
   "metadata": {},
   "outputs": [],
   "source": []
  },
  {
   "cell_type": "code",
   "execution_count": null,
   "metadata": {},
   "outputs": [],
   "source": [
    "auc_value_means_ccarl"
   ]
  },
  {
   "cell_type": "code",
   "execution_count": 125,
   "metadata": {},
   "outputs": [
    {
     "name": "stdout",
     "output_type": "stream",
     "text": [
      "CCARL Performance\n",
      "Median AUC value:  0.887\n",
      "IQR of AUC values:  0.865 -  0.954\n"
     ]
    }
   ],
   "source": [
    "print(\"CCARL Performance\")\n",
    "print(f\"Median AUC value: {np.median(auc_value_means_ccarl): 1.3f}\")\n",
    "print(f\"IQR of AUC values: {np.percentile(auc_value_means_ccarl, 25): 1.3f} - {np.percentile(auc_value_means_ccarl, 75): 1.3f}\")"
   ]
  },
  {
   "cell_type": "code",
   "execution_count": 127,
   "metadata": {},
   "outputs": [
    {
     "name": "stdout",
     "output_type": "stream",
     "text": [
      "Glycan Miner Tool Performance\n",
      "Median AUC value:  0.862\n",
      "IQR of AUC values:  0.845 -  0.898\n"
     ]
    }
   ],
   "source": [
    "print(\"Glycan Miner Tool Performance\")\n",
    "print(f\"Median AUC value: {np.median(auc_value_means): 1.3f}\")\n",
    "print(f\"IQR of AUC values: {np.percentile(auc_value_means, 25): 1.3f} - {np.percentile(auc_value_means, 75): 1.3f}\")"
   ]
  },
  {
   "cell_type": "code",
   "execution_count": 128,
   "metadata": {},
   "outputs": [
    {
     "name": "stdout",
     "output_type": "stream",
     "text": [
      "Glycan Miner Tool Performance\n",
      "Median AUC value:  0.807\n",
      "IQR of AUC values:  0.747 -  0.854\n"
     ]
    }
   ],
   "source": [
    "print(\"Glycan Miner Tool Performance\")\n",
    "print(f\"Median AUC value: {np.median(auc_value_mean_glymmr_best): 1.3f}\")\n",
    "print(f\"IQR of AUC values: {np.percentile(auc_value_mean_glymmr_best, 25): 1.3f} - {np.percentile(auc_value_mean_glymmr_best, 75): 1.3f}\")"
   ]
  },
  {
   "cell_type": "code",
   "execution_count": 129,
   "metadata": {},
   "outputs": [
    {
     "name": "stdout",
     "output_type": "stream",
     "text": [
      "Glycan Miner Tool Performance\n",
      "Median AUC value:  0.732\n",
      "IQR of AUC values:  0.655 -  0.798\n"
     ]
    }
   ],
   "source": [
    "print(\"Glycan Miner Tool Performance\")\n",
    "print(f\"Median AUC value: {np.median(auc_value_mean_glymmr): 1.3f}\")\n",
    "print(f\"IQR of AUC values: {np.percentile(auc_value_mean_glymmr, 25): 1.3f} - {np.percentile(auc_value_mean_glymmr, 75): 1.3f}\")"
   ]
  },
  {
   "cell_type": "code",
   "execution_count": null,
   "metadata": {},
   "outputs": [],
   "source": []
  },
  {
   "cell_type": "code",
   "execution_count": null,
   "metadata": {},
   "outputs": [],
   "source": []
  },
  {
   "cell_type": "code",
   "execution_count": 267,
   "metadata": {},
   "outputs": [],
   "source": [
    "from matplotlib.backends.backend_pdf import PdfPages\n",
    "sns.reset_orig()\n",
    "import networkx as nx\n",
    "\n",
    "for csv_file in csv_files:\n",
    "    with PdfPages(f\"./motif_miner_motifs/glycan_motif_miner_motifs_{csv_file}.pdf\") as pdf:\n",
    "        for motif in motifs[csv_file][0]:\n",
    "            fig, ax = plt.subplots()\n",
    "            ccarl.glycan_plotting.draw_glycan_diagram(motif, ax)\n",
    "            pdf.savefig(fig)\n",
    "            plt.close(fig)"
   ]
  },
  {
   "cell_type": "code",
   "execution_count": 212,
   "metadata": {},
   "outputs": [
    {
     "name": "stdout",
     "output_type": "stream",
     "text": [
      "Lectin  & GLYMMR(mean) & GLYMMR(best) & Glycan Miner Tool & MotifFinder & CCARL \\\\ \\hline\n",
      "\\textit{Agaricus bisporus} agglutinin (ABA) & 0.607 (0.151) & 0.776 (0.088) & 0.888 (0.067) & 0.905 & 0.934 (0.034) \\\\\n",
      "Concanavalin A (Con A) & 0.760 (0.083) & 0.875 (0.048) & 0.951 (0.042) & 0.937 & 0.971 (0.031) \\\\\n",
      "Peanut agglutinin (PNA) & 0.668 (0.116) & 0.751 (0.133) & 0.894 (0.041) & 0.617 & 0.914 (0.048) \\\\\n",
      "\\textit{Ricinus communis} agglutinin I (RCA I/RCA\\textsubscript{120}) & 0.696 (0.053) & 0.751 (0.032) & 0.848 (0.034) & 0.909 & 0.953 (0.026) \\\\\n",
      "\\textit{Phaseolus vulgaris} erythroagglutinin (PHA-E) & 0.817 (0.061) & 0.875 (0.044) & 0.910 (0.016) & 0.496 & 0.965 (0.021) \\\\\n",
      "\\textit{Phaseolus vulgaris} leucoagglutinin (PHA-L) & 0.805 (0.095) & 0.829 (0.089) & 0.858 (0.110) & 0.636 & 0.875 (0.132) \\\\\n",
      "\\textit{Lens culinaris} agglutinin (LCA) & 0.772 (0.092) & 0.811 (0.083) & 0.908 (0.083) & 0.832 & 0.956 (0.037) \\\\\n",
      "\\textit{Sambucus nigra} agglutinin (SNA) & 0.962 (0.051) & 0.963 (0.057) & 0.962 (0.050) & 0.820 & 0.961 (0.059) \\\\\n",
      "\\textit{Maackia amurensis} lectin I (MAL-I) & 0.700 (0.054) & 0.758 (0.057) & 0.868 (0.050) & 0.873 & 0.833 (0.035) \\\\\n",
      "\\textit{Maackia amurensis} lectin II (MAL-II) & 0.600 (0.162) & 0.827 (0.056) & 0.850 (0.091) & 0.830 & 0.721 (0.073) \\\\\n",
      "\\textit{Griffonia simplicifolia} Lectin I isolectin B\\textsubscript{4} (GSL I-B\\textsubscript{4}) & 0.773 (0.103) & 0.847 (0.086) & 0.875 (0.066) & 0.875 & 0.867 (0.061) \\\\\n",
      "Jacalin & 0.782 (0.061) & 0.804 (0.050) & 0.848 (0.026) & 0.726 & 0.882 (0.055) \\\\\n",
      "Wheat germ agglutinin (WGA) & 0.663 (0.048) & 0.697 (0.055) & 0.831 (0.034) & 0.817 & 0.883 (0.021) \\\\\n",
      "\\textit{Ulex europaeus} agglutinin I (UEA I) & 0.703 (0.099) & 0.734 (0.057) & 0.866 (0.023) & 0.951 & 0.859 (0.047) \\\\\n",
      "Soybean agglutinin (SBA) & 0.542 (0.061) & 0.582 (0.049) & 0.781 (0.046) & 0.775 & 0.875 (0.061) \\\\\n",
      "\\textit{Dolichos biflorus} agglutinin (DBA) & 0.630 (0.098) & 0.674 (0.126) & 0.722 (0.083) & 0.936 & 0.839 (0.069) \\\\\n",
      "\\textit{Pisum sativum} agglutinin (PSA) & 0.796 (0.070) & 0.830 (0.050) & 0.858 (0.064) & 0.694 & 0.891 (0.053) \\\\\n",
      "Influenza hemagglutinin (HA) (A/Puerto Rico/8/34) (H1N1) & 0.851 (0.140) & 0.889 (0.103) & 0.838 (0.144) & 0.643 & 0.917 (0.104) \\\\\n",
      "Influenza HA (A/harbor seal/Massachusetts/1/2011) (H3N8) & 0.925 (0.059) & 0.935 (0.034) & 0.947 (0.021) & 0.717 & 0.958 (0.028) \\\\\n",
      "Human DC-SIGN tetramer & 0.634 (0.132) & 0.727 (0.125) & 0.823 (0.130) & 0.538 & 0.841 (0.062) \\\\\n"
     ]
    }
   ],
   "source": [
    "\n",
    "glymmr_mean_stdev = np.array([0.15108904, 0.08300011, 0.11558078, 0.05259819, 0.061275  ,\n",
    "       0.09541182, 0.09239553, 0.05114523, 0.05406571, 0.16180131,\n",
    "       0.10345311, 0.06080207, 0.0479003 , 0.09898648, 0.06137992,\n",
    "       0.09813596, 0.07010635, 0.14010784, 0.05924527, 0.13165457])\n",
    "\n",
    "glymmr_best_stdev = np.array([0.08808868, 0.04784959, 0.13252895, 0.03163248, 0.04401516,\n",
    "       0.08942411, 0.08344247, 0.05714308, 0.05716086, 0.05640053,\n",
    "       0.08649275, 0.05007289, 0.05452531, 0.05697662, 0.0490626 ,\n",
    "       0.1264917 , 0.04994508, 0.1030053 , 0.03359648, 0.12479809])\n",
    "\n",
    "auc_value_std_ccarl = [np.std(auc_values_ccarl[x*5:x*5+5]) for x in range(int(len(auc_values_ccarl) / 5))]\n",
    " \n",
    "print(r\"Lectin  & GLYMMR(mean) & GLYMMR(best) & Glycan Miner Tool & MotifFinder & CCARL \\\\ \\hline\")\n",
    "for i, csv_file, name in zip(list(range(len(csv_files))), csv_files, csv_file_normal_names):\n",
    "    print(f\"{name} & {auc_value_mean_glymmr[i]:0.3f} ({glymmr_mean_stdev[i]:0.3f}) & {auc_value_mean_glymmr_best[i]:0.3f} ({glymmr_best_stdev[i]:0.3f}) \\\n",
    "& {np.mean(aucs[csv_file]):0.3f} ({np.std(aucs[csv_file]):0.3f}) & {auc_value_motiffinder[i]:0.3f} & {auc_value_means_ccarl[i]:0.3f} ({auc_value_std_ccarl[i]:0.3f}) \\\\\\\\\") "
   ]
  },
  {
   "cell_type": "code",
   "execution_count": null,
   "metadata": {},
   "outputs": [],
   "source": []
  },
  {
   "cell_type": "code",
   "execution_count": null,
   "metadata": {},
   "outputs": [],
   "source": []
  }
 ],
 "metadata": {
  "kernelspec": {
   "display_name": "Python 3",
   "language": "python",
   "name": "python3"
  },
  "language_info": {
   "codemirror_mode": {
    "name": "ipython",
    "version": 3
   },
   "file_extension": ".py",
   "mimetype": "text/x-python",
   "name": "python",
   "nbconvert_exporter": "python",
   "pygments_lexer": "ipython3",
   "version": "3.7.3"
  }
 },
 "nbformat": 4,
 "nbformat_minor": 4
}
